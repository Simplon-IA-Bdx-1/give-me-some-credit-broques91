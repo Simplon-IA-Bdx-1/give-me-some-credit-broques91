{
 "cells": [
  {
   "cell_type": "markdown",
   "metadata": {},
   "source": [
    "# Give me some credit: predict one input"
   ]
  },
  {
   "cell_type": "code",
   "execution_count": 229,
   "metadata": {
    "ExecuteTime": {
     "end_time": "2019-11-15T14:52:10.180982Z",
     "start_time": "2019-11-15T14:52:10.170530Z"
    }
   },
   "outputs": [],
   "source": [
    "import pandas as pd\n",
    "import numpy as np\n",
    "import pickle"
   ]
  },
  {
   "cell_type": "code",
   "execution_count": 230,
   "metadata": {
    "ExecuteTime": {
     "end_time": "2019-11-15T14:52:10.199847Z",
     "start_time": "2019-11-15T14:52:10.191606Z"
    }
   },
   "outputs": [],
   "source": [
    "from sklearn.ensemble import RandomForestClassifier\n",
    "model = RandomForestClassifier() # this class contains the implementation of the Random Forest learning technique for classification"
   ]
  },
  {
   "cell_type": "code",
   "execution_count": 231,
   "metadata": {
    "ExecuteTime": {
     "end_time": "2019-11-15T14:52:10.223774Z",
     "start_time": "2019-11-15T14:52:10.210823Z"
    }
   },
   "outputs": [],
   "source": [
    "from xgboost import XGBClassifier\n",
    "model = XGBClassifier()"
   ]
  },
  {
   "cell_type": "code",
   "execution_count": 232,
   "metadata": {
    "ExecuteTime": {
     "end_time": "2019-11-15T14:52:10.241784Z",
     "start_time": "2019-11-15T14:52:10.233258Z"
    }
   },
   "outputs": [],
   "source": [
    "from sklearn.externals import joblib\n",
    "from joblib import dump"
   ]
  },
  {
   "cell_type": "code",
   "execution_count": 233,
   "metadata": {
    "ExecuteTime": {
     "end_time": "2019-11-15T14:52:10.507441Z",
     "start_time": "2019-11-15T14:52:10.248289Z"
    }
   },
   "outputs": [],
   "source": [
    "val_prepared = pd.read_csv('csv/val_sk.csv', index_col=0)"
   ]
  },
  {
   "cell_type": "code",
   "execution_count": 234,
   "metadata": {
    "ExecuteTime": {
     "end_time": "2019-11-15T14:52:10.552843Z",
     "start_time": "2019-11-15T14:52:10.524182Z"
    }
   },
   "outputs": [],
   "source": [
    "val_prepared.head()\n",
    "val_prepared = val_prepared.iloc[0:0]\n",
    "\n"
   ]
  },
  {
   "cell_type": "code",
   "execution_count": 235,
   "metadata": {
    "ExecuteTime": {
     "end_time": "2019-11-15T14:52:10.585093Z",
     "start_time": "2019-11-15T14:52:10.558056Z"
    }
   },
   "outputs": [
    {
     "data": {
      "text/html": [
       "<div>\n",
       "<style scoped>\n",
       "    .dataframe tbody tr th:only-of-type {\n",
       "        vertical-align: middle;\n",
       "    }\n",
       "\n",
       "    .dataframe tbody tr th {\n",
       "        vertical-align: top;\n",
       "    }\n",
       "\n",
       "    .dataframe thead th {\n",
       "        text-align: right;\n",
       "    }\n",
       "</style>\n",
       "<table border=\"1\" class=\"dataframe\">\n",
       "  <thead>\n",
       "    <tr style=\"text-align: right;\">\n",
       "      <th></th>\n",
       "      <th>RevolvingUtilizationOfUnsecuredLines</th>\n",
       "      <th>age</th>\n",
       "      <th>NumberOfTime30-59DaysPastDueNotWorse</th>\n",
       "      <th>DebtRatio</th>\n",
       "      <th>MonthlyIncome</th>\n",
       "      <th>NumberOfOpenCreditLinesAndLoans</th>\n",
       "      <th>NumberOfTimes90DaysLate</th>\n",
       "      <th>NumberRealEstateLoansOrLines</th>\n",
       "      <th>NumberOfTime60-89DaysPastDueNotWorse</th>\n",
       "      <th>NumberOfDependents</th>\n",
       "      <th>SeriousDlqin2yrs</th>\n",
       "      <th>Senior</th>\n",
       "      <th>IncomePerPerson</th>\n",
       "      <th>CombinedDefaulted</th>\n",
       "      <th>CombinedCreditLoans</th>\n",
       "      <th>MonthlyDebt</th>\n",
       "      <th>MonthlyBalance</th>\n",
       "    </tr>\n",
       "    <tr>\n",
       "      <th>Id</th>\n",
       "      <th></th>\n",
       "      <th></th>\n",
       "      <th></th>\n",
       "      <th></th>\n",
       "      <th></th>\n",
       "      <th></th>\n",
       "      <th></th>\n",
       "      <th></th>\n",
       "      <th></th>\n",
       "      <th></th>\n",
       "      <th></th>\n",
       "      <th></th>\n",
       "      <th></th>\n",
       "      <th></th>\n",
       "      <th></th>\n",
       "      <th></th>\n",
       "      <th></th>\n",
       "    </tr>\n",
       "  </thead>\n",
       "  <tbody>\n",
       "  </tbody>\n",
       "</table>\n",
       "</div>"
      ],
      "text/plain": [
       "Empty DataFrame\n",
       "Columns: [RevolvingUtilizationOfUnsecuredLines, age, NumberOfTime30-59DaysPastDueNotWorse, DebtRatio, MonthlyIncome, NumberOfOpenCreditLinesAndLoans, NumberOfTimes90DaysLate, NumberRealEstateLoansOrLines, NumberOfTime60-89DaysPastDueNotWorse, NumberOfDependents, SeriousDlqin2yrs, Senior, IncomePerPerson, CombinedDefaulted, CombinedCreditLoans, MonthlyDebt, MonthlyBalance]\n",
       "Index: []"
      ]
     },
     "execution_count": 235,
     "metadata": {},
     "output_type": "execute_result"
    }
   ],
   "source": [
    "val_prepared.head()"
   ]
  },
  {
   "cell_type": "code",
   "execution_count": 236,
   "metadata": {
    "ExecuteTime": {
     "end_time": "2019-11-15T14:52:10.643646Z",
     "start_time": "2019-11-15T14:52:10.602107Z"
    }
   },
   "outputs": [],
   "source": [
    "data = {\n",
    "    \"RevolvingUtilizationOfUnsecuredLines\": 0.01703559,\n",
    "    \"NumberOfDependents\": 1,\n",
    "    \"DebtRatio\": 0,\n",
    "    \"MonthlyIncome\": 3000,\n",
    "    \"age\": 42,\n",
    "    \"NumberOfOpenCreditLinesAndLoans\": 6,\n",
    "    \"NumberRealEstateLoansOrLines\": 1,\n",
    "    \"NumberOfTime30-59DaysPastDueNotWorse\": 1,\n",
    "    \"NumberOfTime60-89DaysPastDueNotWorse\": 0,\n",
    "    \"NumberOfTimes90DaysLate\": 0\n",
    "}\n",
    "\n",
    "\n",
    "val_prepared = val_prepared.append([data])"
   ]
  },
  {
   "cell_type": "code",
   "execution_count": 237,
   "metadata": {
    "ExecuteTime": {
     "end_time": "2019-11-15T14:52:10.685978Z",
     "start_time": "2019-11-15T14:52:10.650464Z"
    },
    "scrolled": false
   },
   "outputs": [
    {
     "data": {
      "text/html": [
       "<div>\n",
       "<style scoped>\n",
       "    .dataframe tbody tr th:only-of-type {\n",
       "        vertical-align: middle;\n",
       "    }\n",
       "\n",
       "    .dataframe tbody tr th {\n",
       "        vertical-align: top;\n",
       "    }\n",
       "\n",
       "    .dataframe thead th {\n",
       "        text-align: right;\n",
       "    }\n",
       "</style>\n",
       "<table border=\"1\" class=\"dataframe\">\n",
       "  <thead>\n",
       "    <tr style=\"text-align: right;\">\n",
       "      <th></th>\n",
       "      <th>RevolvingUtilizationOfUnsecuredLines</th>\n",
       "      <th>age</th>\n",
       "      <th>NumberOfTime30-59DaysPastDueNotWorse</th>\n",
       "      <th>DebtRatio</th>\n",
       "      <th>MonthlyIncome</th>\n",
       "      <th>NumberOfOpenCreditLinesAndLoans</th>\n",
       "      <th>NumberOfTimes90DaysLate</th>\n",
       "      <th>NumberRealEstateLoansOrLines</th>\n",
       "      <th>NumberOfTime60-89DaysPastDueNotWorse</th>\n",
       "      <th>NumberOfDependents</th>\n",
       "      <th>SeriousDlqin2yrs</th>\n",
       "      <th>Senior</th>\n",
       "      <th>IncomePerPerson</th>\n",
       "      <th>CombinedDefaulted</th>\n",
       "      <th>CombinedCreditLoans</th>\n",
       "      <th>MonthlyDebt</th>\n",
       "      <th>MonthlyBalance</th>\n",
       "    </tr>\n",
       "  </thead>\n",
       "  <tbody>\n",
       "    <tr>\n",
       "      <td>0</td>\n",
       "      <td>0.017036</td>\n",
       "      <td>42.0</td>\n",
       "      <td>1</td>\n",
       "      <td>0.0</td>\n",
       "      <td>3000.0</td>\n",
       "      <td>6</td>\n",
       "      <td>0</td>\n",
       "      <td>1</td>\n",
       "      <td>0</td>\n",
       "      <td>1</td>\n",
       "      <td>NaN</td>\n",
       "      <td>NaN</td>\n",
       "      <td>NaN</td>\n",
       "      <td>NaN</td>\n",
       "      <td>NaN</td>\n",
       "      <td>NaN</td>\n",
       "      <td>NaN</td>\n",
       "    </tr>\n",
       "  </tbody>\n",
       "</table>\n",
       "</div>"
      ],
      "text/plain": [
       "   RevolvingUtilizationOfUnsecuredLines   age  \\\n",
       "0                              0.017036  42.0   \n",
       "\n",
       "   NumberOfTime30-59DaysPastDueNotWorse  DebtRatio  MonthlyIncome  \\\n",
       "0                                     1        0.0         3000.0   \n",
       "\n",
       "   NumberOfOpenCreditLinesAndLoans  NumberOfTimes90DaysLate  \\\n",
       "0                                6                        0   \n",
       "\n",
       "   NumberRealEstateLoansOrLines  NumberOfTime60-89DaysPastDueNotWorse  \\\n",
       "0                             1                                     0   \n",
       "\n",
       "   NumberOfDependents  SeriousDlqin2yrs  Senior  IncomePerPerson  \\\n",
       "0                   1               NaN     NaN              NaN   \n",
       "\n",
       "   CombinedDefaulted  CombinedCreditLoans  MonthlyDebt  MonthlyBalance  \n",
       "0                NaN                  NaN          NaN             NaN  "
      ]
     },
     "execution_count": 237,
     "metadata": {},
     "output_type": "execute_result"
    }
   ],
   "source": [
    "val_prepared.head()"
   ]
  },
  {
   "cell_type": "markdown",
   "metadata": {},
   "source": [
    "Traitement des features"
   ]
  },
  {
   "cell_type": "code",
   "execution_count": 238,
   "metadata": {
    "ExecuteTime": {
     "end_time": "2019-11-15T14:52:10.788191Z",
     "start_time": "2019-11-15T14:52:10.692584Z"
    }
   },
   "outputs": [],
   "source": [
    "    # Age\n",
    "    val_prepared.loc[val_prepared.age > 65, 'Senior'] = '1' \n",
    "    val_prepared.loc[val_prepared.age <= 65, 'Senior'] = '0'\n",
    "    age_working = val_prepared.loc[(val_prepared[\"age\"] >= 18) & (val_prepared[\"age\"] < 65)]\n",
    "    age_senior = val_prepared.loc[(val_prepared[\"age\"] >= 65)]\n",
    "    age_working_impute = age_working.MonthlyIncome.mean()\n",
    "    age_senior_impute = age_senior.MonthlyIncome.mean()\n",
    "    \n",
    "    # MonthlyIncome\n",
    "    val_prepared[\"MonthlyIncome\"] = val_prepared[\"MonthlyIncome\"].fillna(99999)\n",
    "    val_prepared.loc[((df[\"age\"] >= 18) & (val_prepared[\"age\"] < 65)) & (val_prepared[\"MonthlyIncome\"] == 99999), \"MonthlyIncome\"] = age_working_impute\n",
    "    val_prepared.loc[(df[\"age\"] >= 65) & (val_prepared[\"MonthlyIncome\"] == 99999), \"MonthlyIncome\"] = age_senior_impute\n",
    "    \n",
    "    # Income Per Person\n",
    "    val_prepared['IncomePerPerson'] = val_prepared['MonthlyIncome'] / ( val_prepared['NumberOfDependents'] + 1 )\n",
    "    \n",
    "    # Defaults\n",
    "    val_prepared['CombinedDefaulted'] = (val_prepared['NumberOfTime30-59DaysPastDueNotWorse'] + \\\n",
    "                               val_prepared['NumberOfTime60-89DaysPastDueNotWorse'] + \\\n",
    "                               val_prepared['NumberOfTimes90DaysLate'])\n",
    "        \n",
    "    # Credit & Loans\n",
    "    val_prepared[\"CombinedCreditLoans\"] = val_prepared[\"NumberOfOpenCreditLinesAndLoans\"] + \\\n",
    "                                val_prepared[\"NumberRealEstateLoansOrLines\"]\n",
    "    \n",
    "    # Monthly Debt\n",
    "    val_prepared['MonthlyDebt'] = val_prepared['DebtRatio'] * val_prepared['MonthlyIncome']\n",
    "    \n",
    "    # Monthly Balance\n",
    "    val_prepared['MonthlyBalance'] = val_prepared['MonthlyIncome'] - val_prepared['MonthlyDebt']\n",
    "    \n",
    "    # Dependents\n",
    "    val_prepared['NumberOfDependents'] = val_prepared['NumberOfDependents'].fillna(0)\n",
    "    val_prepared[\"NumberOfDependents\"] = val_prepared[\"NumberOfDependents\"].astype('int64')\n",
    "    \n",
    "    val_prepared = val_prepared.fillna(0)\n"
   ]
  },
  {
   "cell_type": "code",
   "execution_count": 239,
   "metadata": {
    "ExecuteTime": {
     "end_time": "2019-11-15T14:52:10.843587Z",
     "start_time": "2019-11-15T14:52:10.794535Z"
    }
   },
   "outputs": [
    {
     "data": {
      "text/html": [
       "<div>\n",
       "<style scoped>\n",
       "    .dataframe tbody tr th:only-of-type {\n",
       "        vertical-align: middle;\n",
       "    }\n",
       "\n",
       "    .dataframe tbody tr th {\n",
       "        vertical-align: top;\n",
       "    }\n",
       "\n",
       "    .dataframe thead th {\n",
       "        text-align: right;\n",
       "    }\n",
       "</style>\n",
       "<table border=\"1\" class=\"dataframe\">\n",
       "  <thead>\n",
       "    <tr style=\"text-align: right;\">\n",
       "      <th></th>\n",
       "      <th>RevolvingUtilizationOfUnsecuredLines</th>\n",
       "      <th>age</th>\n",
       "      <th>NumberOfTime30-59DaysPastDueNotWorse</th>\n",
       "      <th>DebtRatio</th>\n",
       "      <th>MonthlyIncome</th>\n",
       "      <th>NumberOfOpenCreditLinesAndLoans</th>\n",
       "      <th>NumberOfTimes90DaysLate</th>\n",
       "      <th>NumberRealEstateLoansOrLines</th>\n",
       "      <th>NumberOfTime60-89DaysPastDueNotWorse</th>\n",
       "      <th>NumberOfDependents</th>\n",
       "      <th>SeriousDlqin2yrs</th>\n",
       "      <th>Senior</th>\n",
       "      <th>IncomePerPerson</th>\n",
       "      <th>CombinedDefaulted</th>\n",
       "      <th>CombinedCreditLoans</th>\n",
       "      <th>MonthlyDebt</th>\n",
       "      <th>MonthlyBalance</th>\n",
       "    </tr>\n",
       "  </thead>\n",
       "  <tbody>\n",
       "    <tr>\n",
       "      <td>0</td>\n",
       "      <td>0.017036</td>\n",
       "      <td>42.0</td>\n",
       "      <td>1</td>\n",
       "      <td>0.0</td>\n",
       "      <td>3000.0</td>\n",
       "      <td>6</td>\n",
       "      <td>0</td>\n",
       "      <td>1</td>\n",
       "      <td>0</td>\n",
       "      <td>1</td>\n",
       "      <td>0.0</td>\n",
       "      <td>0</td>\n",
       "      <td>1500.0</td>\n",
       "      <td>1</td>\n",
       "      <td>7</td>\n",
       "      <td>0.0</td>\n",
       "      <td>3000.0</td>\n",
       "    </tr>\n",
       "  </tbody>\n",
       "</table>\n",
       "</div>"
      ],
      "text/plain": [
       "   RevolvingUtilizationOfUnsecuredLines   age  \\\n",
       "0                              0.017036  42.0   \n",
       "\n",
       "   NumberOfTime30-59DaysPastDueNotWorse  DebtRatio  MonthlyIncome  \\\n",
       "0                                     1        0.0         3000.0   \n",
       "\n",
       "   NumberOfOpenCreditLinesAndLoans  NumberOfTimes90DaysLate  \\\n",
       "0                                6                        0   \n",
       "\n",
       "   NumberRealEstateLoansOrLines  NumberOfTime60-89DaysPastDueNotWorse  \\\n",
       "0                             1                                     0   \n",
       "\n",
       "   NumberOfDependents  SeriousDlqin2yrs Senior  IncomePerPerson  \\\n",
       "0                   1               0.0      0           1500.0   \n",
       "\n",
       "   CombinedDefaulted  CombinedCreditLoans  MonthlyDebt  MonthlyBalance  \n",
       "0                  1                    7          0.0          3000.0  "
      ]
     },
     "execution_count": 239,
     "metadata": {},
     "output_type": "execute_result"
    }
   ],
   "source": [
    "val_prepared.head()"
   ]
  },
  {
   "cell_type": "markdown",
   "metadata": {},
   "source": [
    "Load model from disk"
   ]
  },
  {
   "cell_type": "code",
   "execution_count": 240,
   "metadata": {
    "ExecuteTime": {
     "end_time": "2019-11-15T14:52:10.892416Z",
     "start_time": "2019-11-15T14:52:10.851816Z"
    }
   },
   "outputs": [],
   "source": [
    "# load the model from disk\n",
    "loaded_model = pickle.load(open(filename, 'rb'))"
   ]
  },
  {
   "cell_type": "markdown",
   "metadata": {},
   "source": [
    "## Apply model to new set"
   ]
  },
  {
   "cell_type": "code",
   "execution_count": 241,
   "metadata": {
    "ExecuteTime": {
     "end_time": "2019-11-15T14:52:10.937833Z",
     "start_time": "2019-11-15T14:52:10.896007Z"
    }
   },
   "outputs": [
    {
     "name": "stdout",
     "output_type": "stream",
     "text": [
      "[0.04880878]\n"
     ]
    }
   ],
   "source": [
    "target_column = 'SeriousDlqin2yrs'\n",
    "\n",
    "X_val = val_prepared.drop(target_column, axis=1).values\n",
    "y_val = val_prepared[target_column].values\n",
    "\n",
    "y_val_proba = loaded_model.predict_proba(X_val)\n",
    "y_val_proba = y_val_proba[:,1]\n",
    "\n",
    "print(y_val_proba)"
   ]
  },
  {
   "cell_type": "code",
   "execution_count": 242,
   "metadata": {
    "ExecuteTime": {
     "end_time": "2019-11-15T14:52:10.973610Z",
     "start_time": "2019-11-15T14:52:10.943781Z"
    }
   },
   "outputs": [
    {
     "name": "stdout",
     "output_type": "stream",
     "text": [
      "Notre modèle estime la probabilité de défaut de remboursement du client à : 4.880878329277039% \n"
     ]
    }
   ],
   "source": [
    "print(f\"Notre modèle estime la probabilité de défaut de remboursement du client à : {y_val_proba[0] * 100}% \")"
   ]
  },
  {
   "cell_type": "code",
   "execution_count": null,
   "metadata": {},
   "outputs": [],
   "source": []
  }
 ],
 "metadata": {
  "kernelspec": {
   "display_name": "Python 3",
   "language": "python",
   "name": "python3"
  },
  "language_info": {
   "codemirror_mode": {
    "name": "ipython",
    "version": 3
   },
   "file_extension": ".py",
   "mimetype": "text/x-python",
   "name": "python",
   "nbconvert_exporter": "python",
   "pygments_lexer": "ipython3",
   "version": "3.7.4"
  },
  "toc": {
   "base_numbering": 1,
   "nav_menu": {},
   "number_sections": true,
   "sideBar": true,
   "skip_h1_title": false,
   "title_cell": "Table of Contents",
   "title_sidebar": "Contents",
   "toc_cell": false,
   "toc_position": {},
   "toc_section_display": true,
   "toc_window_display": false
  },
  "varInspector": {
   "cols": {
    "lenName": 16,
    "lenType": 16,
    "lenVar": 40
   },
   "kernels_config": {
    "python": {
     "delete_cmd_postfix": "",
     "delete_cmd_prefix": "del ",
     "library": "var_list.py",
     "varRefreshCmd": "print(var_dic_list())"
    },
    "r": {
     "delete_cmd_postfix": ") ",
     "delete_cmd_prefix": "rm(",
     "library": "var_list.r",
     "varRefreshCmd": "cat(var_dic_list()) "
    }
   },
   "types_to_exclude": [
    "module",
    "function",
    "builtin_function_or_method",
    "instance",
    "_Feature"
   ],
   "window_display": false
  }
 },
 "nbformat": 4,
 "nbformat_minor": 2
}
