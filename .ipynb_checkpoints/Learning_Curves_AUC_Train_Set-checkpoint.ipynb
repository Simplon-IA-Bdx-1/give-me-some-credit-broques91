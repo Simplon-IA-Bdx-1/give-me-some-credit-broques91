{
 "cells": [
  {
   "cell_type": "markdown",
   "metadata": {},
   "source": [
    "# Learning Curves ( Ensemble vs Deepnet ) Train Set"
   ]
  },
  {
   "cell_type": "code",
   "execution_count": 1,
   "metadata": {},
   "outputs": [],
   "source": [
    "import pandas as pd\n",
    "import matplotlib.pyplot as plt\n",
    "from sklearn.metrics import roc_auc_score\n",
    "from bigml.api import BigML"
   ]
  },
  {
   "cell_type": "code",
   "execution_count": 2,
   "metadata": {},
   "outputs": [],
   "source": [
    "# Select project in BigML\n",
    "api = BigML(project='project/5d9b851042129f40b70001b0')"
   ]
  },
  {
   "cell_type": "code",
   "execution_count": 3,
   "metadata": {},
   "outputs": [],
   "source": [
    "# Create list for ensemble, deepnet, dataset\n",
    "ensemble_list = [api.get_ensemble('ensemble/5dbfeedf7811dd7f2d00f9c8'), # 10\n",
    "                api.get_ensemble('ensemble/5dbfef877811dd7f2d00f9de'), # 20\n",
    "                api.get_ensemble('ensemble/5dbff06c7811dd7f2d00fa20'), # 30\n",
    "                api.get_ensemble('ensemble/5dbff184e476847468010dae'), # 40\n",
    "                api.get_ensemble('ensemble/5dbff2715299631c820103b4'), # 50\n",
    "                api.get_ensemble('ensemble/5dbff39de476847468010e1a'), # 60\n",
    "                api.get_ensemble('ensemble/5dbff48ae476847468010e35'), # 70\n",
    "                api.get_ensemble('ensemble/5dbff5b15299631c82010423'), # 80\n",
    "                api.get_ensemble('ensemble/5dbff85fe476847468010e99'), # 90\n",
    "                api.get_ensemble('ensemble/5dbffa697811dd0554001066')  # 100     \n",
    "                ]\n",
    "\n",
    "deepnet_list = [api.get_deepnet('deepnet/5dbfef0de476847468010d39'),\n",
    "                api.get_deepnet('deepnet/5dbfefa97811dd0557001572'),\n",
    "                api.get_deepnet('deepnet/5dbff095e476847468010d72'),\n",
    "                api.get_deepnet('deepnet/5dbff1b27811dd7f2d00fa62'),\n",
    "                api.get_deepnet('deepnet/5dbff2a17811dd7f2d00fa89'),\n",
    "                api.get_deepnet('deepnet/5dbff3de5299631c820103ea'),\n",
    "                api.get_deepnet('deepnet/5dbff4bfe476847468010e38'),\n",
    "                api.get_deepnet('deepnet/5dbff5e87811dd7f2d00fae9'),\n",
    "                api.get_deepnet('deepnet/5dbff9685299631c82010465'),\n",
    "                api.get_deepnet('deepnet/5dbffaa27811dd7f2d00fb31')          \n",
    "               ]\n",
    "\n",
    "dataset_list = [api.get_dataset('dataset/5dbfeed3e476847468010d2a'),\n",
    "                api.get_dataset('dataset/5dbfef6ee47684749e001158'),\n",
    "                api.get_dataset('dataset/5dbff0515299631c82010345'),\n",
    "                api.get_dataset('dataset/5dbff150e476847468010da8'),\n",
    "                api.get_dataset('dataset/5dbff23d7811dd055c001608'),\n",
    "                api.get_dataset('dataset/5dbff36ce4768474050009d1'),\n",
    "                api.get_dataset('dataset/5dbff4715299631c820103f9'),\n",
    "                api.get_dataset('dataset/5dbff5957811dd7f2d00fada'),\n",
    "                api.get_dataset('dataset/5dbff83fe476847468010e96'),\n",
    "                api.get_dataset('dataset/5dbffa475299631c8201046e')\n",
    "               ]"
   ]
  },
  {
   "cell_type": "markdown",
   "metadata": {},
   "source": [
    "## Performance de “ensemble” et de “deepnet” sur le train set"
   ]
  },
  {
   "cell_type": "code",
   "execution_count": 8,
   "metadata": {},
   "outputs": [],
   "source": [
    "def data_auc(x, y):\n",
    "    \n",
    "    # test avec n% du train_set\n",
    "    api = BigML(project=\"project/5d9b851042129f40b70001b0\") # AUTH dans docker/auth.env\n",
    "    df = pd.read_csv('csv/Train.csv', index_col=0)\n",
    "    \n",
    "    # split de n% du train_set\n",
    "    train_split = df.head(int(len(df)*(x/100)))\n",
    "\n",
    "    # Enregistrement csv \n",
    "    path = f\"csv/train_split_{x}.csv\"\n",
    "    batch_path = f\"csv/learning_curves/train/predictions_ensemble_train{x}_with_train.csv\"\n",
    "    batch_path_deep = f\"csv/learning_curves/predictions_deepnet_train{x}_with_train.csv\"\n",
    "    \n",
    "    train_split.to_csv(path)\n",
    "\n",
    "    # Creation d'une source\n",
    "    source = api.create_source(path)\n",
    "    api.ok(source)\n",
    "    \n",
    "    # Creation d'un dataset ( = source )\n",
    "    dataset_train = api.create_dataset(source)\n",
    "    api.ok(dataset_train)\n",
    "\n",
    "    # Récuperation des 80% (train set)\n",
    "    train_dataset = api.get_dataset('dataset/5dbf2470e4768474680107dc')\n",
    "    \n",
    "    # ENSEMBLE\n",
    "    \n",
    "    # Création d'un modele ensemble avec les n% \n",
    "    ensemble = api.create_ensemble(dataset_train , {\"objective_field\" : \"SeriousDlqin2yrs\"})\n",
    "    print(f\"Création model {x}% du train_set - Ensemble\")\n",
    "\n",
    "    batch_prediction = api.create_batch_prediction(ensemble_list[y], dataset_list[y],{\"header\": True, \"all_fields\": True, \"probabilities\": True})\n",
    "    api.ok(batch_prediction)\n",
    "    api.download_batch_prediction(batch_prediction,filename=batch_path)\n",
    "    \n",
    "    #### AUC ENSEMBLE\n",
    "    df_ens = pd.read_csv(batch_path, index_col=0)\n",
    "\n",
    "    actual = df_ens['SeriousDlqin2yrs']\n",
    "    scores = df_ens['1 probability']\n",
    "    auc_ens = roc_auc_score(actual, scores)\n",
    "    \n",
    "    # DEEPNET\n",
    "    \n",
    "    # Création d'un modele Deepnet avec les n% \n",
    "    deepnet = api.create_deepnet(dataset_train , {\"objective_field\" : \"SeriousDlqin2yrs\"})\n",
    "    print(f\"Création model {x}% du train_set - Deepnet\")\n",
    "\n",
    "    batch_prediction_deep = api.create_batch_prediction(deepnet_list[y], dataset_list[y],{\"header\": True, \"all_fields\": True, \"probabilities\": True})\n",
    "    api.ok(batch_prediction_deep)\n",
    "    api.download_batch_prediction(batch_prediction_deep,filename=batch_path_deep)\n",
    "\n",
    "    #### AUC Deepnet\n",
    "    df_deep = pd.read_csv(batch_path_deep, index_col=0)\n",
    "\n",
    "    actual_deep = df_deep['SeriousDlqin2yrs']\n",
    "    scores_deep = df_deep['1 probability']\n",
    "    auc_deep = roc_auc_score(actual_deep, scores_deep)\n",
    "    \n",
    "    return auc_ens, auc_deep\n"
   ]
  },
  {
   "cell_type": "code",
   "execution_count": 9,
   "metadata": {},
   "outputs": [
    {
     "name": "stdout",
     "output_type": "stream",
     "text": [
      "Création model 10% du train_set - Ensemble\n",
      "Création model 10% du train_set - Deepnet\n",
      "Création model 20% du train_set - Ensemble\n",
      "Création model 20% du train_set - Deepnet\n",
      "Création model 30% du train_set - Ensemble\n",
      "Création model 30% du train_set - Deepnet\n",
      "Création model 40% du train_set - Ensemble\n",
      "Création model 40% du train_set - Deepnet\n",
      "Création model 50% du train_set - Ensemble\n",
      "Création model 50% du train_set - Deepnet\n",
      "Création model 60% du train_set - Ensemble\n",
      "Création model 60% du train_set - Deepnet\n",
      "Création model 70% du train_set - Ensemble\n",
      "Création model 70% du train_set - Deepnet\n",
      "Création model 80% du train_set - Ensemble\n",
      "Création model 80% du train_set - Deepnet\n",
      "Création model 90% du train_set - Ensemble\n",
      "Création model 90% du train_set - Deepnet\n",
      "Création model 100% du train_set - Ensemble\n",
      "Création model 100% du train_set - Deepnet\n"
     ]
    }
   ],
   "source": [
    "# Store AUC values in a list\n",
    "x = 10\n",
    "y = 0\n",
    "auc_list_ens = []\n",
    "auc_list_deep = []\n",
    "data_amount_list = []\n",
    "\n",
    "while x <= 100 and y <= 9 :\n",
    "    auc_ens , auc_deep = data_auc(x,y)\n",
    "    auc_list_ens.append(auc_ens)\n",
    "    auc_list_deep.append(auc_deep)\n",
    "    data_amount_list.append(x)\n",
    "    x += 10\n",
    "    y += 1\n",
    "    \n"
   ]
  },
  {
   "cell_type": "code",
   "execution_count": 10,
   "metadata": {},
   "outputs": [
    {
     "data": {
      "image/png": "[encoded data removed]",
      "text/plain": [
       "<Figure size 1476x432 with 1 Axes>"
      ]
     },
     "metadata": {
      "needs_background": "light"
     },
     "output_type": "display_data"
    }
   ],
   "source": [
    "# Learning curves\n",
    "plt.rcParams['figure.figsize'] = [20.5 , 6]\n",
    "plt.xlabel(\"% Amount of Data\")\n",
    "plt.ylabel(\"Performance\")\n",
    "plt.plot(data_amount_list,auc_list_ens, color=\"blue\", label='Ensemble')\n",
    "plt.plot(data_amount_list,auc_list_deep, color=\"red\", label='Deepnet')\n",
    "plt.legend(loc=\"lower right\")\n",
    "plt.show()"
   ]
  },
  {
   "cell_type": "code",
   "execution_count": null,
   "metadata": {},
   "outputs": [],
   "source": []
  }
 ],
 "metadata": {
  "kernelspec": {
   "display_name": "Python 3",
   "language": "python",
   "name": "python3"
  },
  "language_info": {
   "codemirror_mode": {
    "name": "ipython",
    "version": 3
   },
   "file_extension": ".py",
   "mimetype": "text/x-python",
   "name": "python",
   "nbconvert_exporter": "python",
   "pygments_lexer": "ipython3",
   "version": "3.7.4"
  },
  "toc": {
   "base_numbering": 1,
   "nav_menu": {},
   "number_sections": true,
   "sideBar": true,
   "skip_h1_title": false,
   "title_cell": "Table of Contents",
   "title_sidebar": "Contents",
   "toc_cell": false,
   "toc_position": {},
   "toc_section_display": true,
   "toc_window_display": false
  },
  "varInspector": {
   "cols": {
    "lenName": 16,
    "lenType": 16,
    "lenVar": 40
   },
   "kernels_config": {
    "python": {
     "delete_cmd_postfix": "",
     "delete_cmd_prefix": "del ",
     "library": "var_list.py",
     "varRefreshCmd": "print(var_dic_list())"
    },
    "r": {
     "delete_cmd_postfix": ") ",
     "delete_cmd_prefix": "rm(",
     "library": "var_list.r",
     "varRefreshCmd": "cat(var_dic_list()) "
    }
   },
   "types_to_exclude": [
    "module",
    "function",
    "builtin_function_or_method",
    "instance",
    "_Feature"
   ],
   "window_display": false
  }
 },
 "nbformat": 4,
 "nbformat_minor": 2
}
